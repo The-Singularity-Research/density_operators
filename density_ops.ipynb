{
 "cells": [
  {
   "cell_type": "markdown",
   "metadata": {},
   "source": [
    "# Density Operators"
   ]
  },
  {
   "cell_type": "markdown",
   "metadata": {},
   "source": [
    "The primary references for this notebook are Chapter 29 $\\S 3$ of Roger Penrose's [\"The Road to Reality\"](https://www.amazon.com/Road-Reality-Complete-Guide-Universe/dp/0679776311), and Chapter 2 $\\S 4$ of Nielsen & Chuang's [\"Quantum Computation and Quantum Information\"](https://www.amazon.com/Quantum-Computation-Information-10th-Anniversary/dp/1107002176)."
   ]
  },
  {
   "cell_type": "code",
   "execution_count": 1,
   "metadata": {},
   "outputs": [],
   "source": [
    "import numpy as np\n",
    "from qiskit import *\n",
    "%matplotlib inline"
   ]
  },
  {
   "cell_type": "markdown",
   "metadata": {},
   "source": [
    "### Bell State Example"
   ]
  },
  {
   "cell_type": "markdown",
   "metadata": {},
   "source": [
    "**Density matrices** are an alternate way of representing the state of a quantum system. In the finite dimensional case, for example with a finite number of qubits, suppose we have some set of possible states the system can be in $|\\psi_k\\rangle$, each with probability $p_k$. We call the set $\\{p_k, |\\psi_k\\rangle\\}$ an *ensemble of states*. As an example, suppose we prepare the Bell state \n",
    "\n",
    "\\begin{align}\n",
    "\\beta_{00} = \\frac{|00\\rangle + |11\\rangle}{\\sqrt{2}}\n",
    "\\end{align}\n",
    "\n",
    "using the following circuit:"
   ]
  },
  {
   "cell_type": "code",
   "execution_count": 2,
   "metadata": {},
   "outputs": [
    {
     "data": {
      "image/png": "[encoded data removed]",
      "text/plain": [
       "<Figure size 309.428x204.68 with 1 Axes>"
      ]
     },
     "execution_count": 2,
     "metadata": {},
     "output_type": "execute_result"
    }
   ],
   "source": [
    "qr00 = QuantumRegister(2)\n",
    "cr00 = ClassicalRegister(2)\n",
    "Bell00 = QuantumCircuit(qr00, cr00)\n",
    "Bell00.h(0)\n",
    "Bell00.cx(0,1)\n",
    "Bell00.draw(output='mpl')"
   ]
  },
  {
   "cell_type": "markdown",
   "metadata": {},
   "source": [
    "Let's verify the state vector is in fact $\\beta_{00}$ using the `statevector_simulator` backend to print out the state vector obtained from the circuit as a column (ket) vector.  "
   ]
  },
  {
   "cell_type": "code",
   "execution_count": 3,
   "metadata": {},
   "outputs": [
    {
     "name": "stdout",
     "output_type": "stream",
     "text": [
      "[[0.70710678-0.j]\n",
      " [0.        -0.j]\n",
      " [0.        -0.j]\n",
      " [0.70710678-0.j]]\n"
     ]
    }
   ],
   "source": [
    "backend = Aer.get_backend('statevector_simulator') \n",
    "beta00 = execute(Bell00,backend).result().get_statevector()\n",
    "print(np.matrix(beta00).H)"
   ]
  },
  {
   "cell_type": "markdown",
   "metadata": {},
   "source": [
    "Notice, we can rewrite this as\n",
    "\n",
    "\\begin{align}\n",
    "\\frac{|00\\rangle + |11\\rangle}{\\sqrt{2}} &= \\frac{1}{\\sqrt{2}}|00\\rangle + \\frac{1}{\\sqrt{2}}|11\\rangle \\\\\n",
    "&= |\\psi_1\\rangle + |\\psi_2\\rangle\n",
    "\\end{align}\n",
    "\n",
    "where \n",
    "\n",
    "\\begin{align}\n",
    "|\\psi_1\\rangle &= \\frac{1}{\\sqrt{2}}|00\\rangle \\\\\n",
    "|\\psi_2\\rangle &= \\frac{1}{\\sqrt{2}}|11\\rangle.\n",
    "\\end{align}"
   ]
  },
  {
   "cell_type": "markdown",
   "metadata": {},
   "source": [
    "Now, the amplitude of $|00\\rangle$ is $1/\\sqrt{2}$. The amplitude of $|11\\rangle$ is also $1/\\sqrt{2}$. So, both $|\\psi_1\\rangle$ and $|\\psi_2\\rangle$ occur with probability $p_1 = p_2 = (1/\\sqrt{2})^2 = 1/2$. In general we define the density matrix of an ensemble of state $\\{p_k, |\\psi_k\\rangle\\}$ as\n",
    "\n",
    "\\begin{align}\n",
    "\\rho = \\sum_{k=1}^n p_k |\\psi_k\\rangle \\langle \\psi_k|.\n",
    "\\end{align}\n",
    "\n",
    "In this example for the Bell state $\\beta_{00}$ this becomes\n",
    "\n",
    "\\begin{align}\n",
    "\\rho_{00} &= \\frac{1}{2}|\\psi_1\\rangle \\langle \\psi_1| + \\frac{1}{2}|\\psi_2\\rangle \\langle \\psi_2| \\\\\n",
    "&= \\frac{1}{2}|00\\rangle \\langle 00| + \\frac{1}{2}|11\\rangle \\langle 11| \\\\\n",
    "&= \\frac{1}{2}\n",
    "\\begin{pmatrix}\n",
    "1 \\\\ 0 \\\\ 0 \\\\ 0\n",
    "\\end{pmatrix}\n",
    "\\begin{pmatrix}\n",
    "1, & 0, & 0, & 0\n",
    "\\end{pmatrix} +\n",
    "\\frac{1}{2}\n",
    "\\begin{pmatrix}\n",
    "0 \\\\ 0 \\\\ 0 \\\\ 1\n",
    "\\end{pmatrix}\n",
    "\\begin{pmatrix}\n",
    "0, &0, &0, & 1\n",
    "\\end{pmatrix}\\\\\n",
    "&= \\frac{1}{2} \n",
    "\\begin{pmatrix}\n",
    "1 & 0 & 0 & 0\\\\\n",
    "0 & 0 & 0 & 0\\\\\n",
    "0 & 0 & 0 & 0\\\\\n",
    "0 & 0 & 0 & 0\n",
    "\\end{pmatrix} + \n",
    "\\frac{1}{2}\n",
    "\\begin{pmatrix}\n",
    "0 & 0 & 0 & 0\\\\\n",
    "0 & 0 & 0 & 0\\\\\n",
    "0 & 0 & 0 & 0\\\\\n",
    "0 & 0 & 0 & 1\n",
    "\\end{pmatrix} \\\\\n",
    "&= \\begin{pmatrix}\n",
    "1/2 & 0 & 0 & 0\\\\\n",
    "0 & 0 & 0 & 0\\\\\n",
    "0 & 0 & 0 & 0\\\\\n",
    "0 & 0 & 0 & 1/2\n",
    "\\end{pmatrix}.\n",
    "\\end{align}"
   ]
  },
  {
   "cell_type": "markdown",
   "metadata": {},
   "source": [
    "We can check this in Python as follows. "
   ]
  },
  {
   "cell_type": "code",
   "execution_count": 4,
   "metadata": {},
   "outputs": [],
   "source": [
    "# Define spin-up ket |0>\n",
    "u = np.matrix([[1],\n",
    "               [0]])\n",
    "\n",
    "#Define spin-down ket |1>\n",
    "d = np.matrix([[0],\n",
    "               [1]])\n",
    "\n",
    "# Define |00>\n",
    "uu = np.kron(u,u)\n",
    "\n",
    "# Define |11>\n",
    "dd = np.kron(d,d)"
   ]
  },
  {
   "cell_type": "code",
   "execution_count": 5,
   "metadata": {},
   "outputs": [
    {
     "name": "stdout",
     "output_type": "stream",
     "text": [
      "[[0.5 0.  0.  0. ]\n",
      " [0.  0.  0.  0. ]\n",
      " [0.  0.  0.  0. ]\n",
      " [0.  0.  0.  0. ]]\n"
     ]
    }
   ],
   "source": [
    "#Compute outer product of spin-up ket and spin-up bra\n",
    "p1 = np.dot(uu, uu.H)/2\n",
    "print(p1)"
   ]
  },
  {
   "cell_type": "code",
   "execution_count": 6,
   "metadata": {},
   "outputs": [
    {
     "name": "stdout",
     "output_type": "stream",
     "text": [
      "[[0.  0.  0.  0. ]\n",
      " [0.  0.  0.  0. ]\n",
      " [0.  0.  0.  0. ]\n",
      " [0.  0.  0.  0.5]]\n"
     ]
    }
   ],
   "source": [
    "#Compute outer product of spin-down ket and spin-down bra\n",
    "p2 = np.dot(dd, dd.H)/2\n",
    "print(p2)"
   ]
  },
  {
   "cell_type": "code",
   "execution_count": 7,
   "metadata": {},
   "outputs": [
    {
     "name": "stdout",
     "output_type": "stream",
     "text": [
      "[[0.5 0.  0.  0. ]\n",
      " [0.  0.  0.  0. ]\n",
      " [0.  0.  0.  0. ]\n",
      " [0.  0.  0.  0.5]]\n"
     ]
    }
   ],
   "source": [
    "# Compute the density matrix\n",
    "rho00 = p1+p2\n",
    "print(rho00)"
   ]
  },
  {
   "cell_type": "markdown",
   "metadata": {},
   "source": [
    "### Some Remarks on Ontology"
   ]
  },
  {
   "cell_type": "markdown",
   "metadata": {},
   "source": [
    "As a more basic example, and as a way of getting at a certain ontology of quantum mechanics, let's look at an even more basic example, the case of a single qubit (or spin-$1/2$ particle). In this case, we know from previous experience that there are many different bases we can measure in. There are in fact *infinitely many* bases we can measure in. Typically we measure in either the Pauli bases, $X$, $Y$, and $Z$, which correspond to the matrices\n",
    "\n",
    "\\begin{align}\n",
    "X = \n",
    "\\begin{pmatrix}\n",
    "0 & 1 \\\\\n",
    "1 & 0\n",
    "\\end{pmatrix}, \\quad \n",
    "Y = \n",
    "\\begin{pmatrix}\n",
    "0 & -i \\\\\n",
    "i & 0\n",
    "\\end{pmatrix}, \\quad \n",
    "Z = \n",
    "\\begin{pmatrix}\n",
    "1 & 0 \\\\\n",
    "0 & -1\n",
    "\\end{pmatrix}.\n",
    "\\end{align}\n",
    "\n",
    "We know these correspond (respectively) to the state vectors\n",
    "\n",
    "\\begin{align}\n",
    "\\frac{|0\\rangle + |1\\rangle}{\\sqrt{2}}, &\\quad \\frac{|0\\rangle - |1\\rangle}{\\sqrt{2}} \\\\\n",
    "\\frac{|0\\rangle + i|1\\rangle}{\\sqrt{2}}, &\\quad \\frac{|0\\rangle - i|1\\rangle}{\\sqrt{2}} \\\\\n",
    "|0\\rangle, &\\quad |1\\rangle .\n",
    "\\end{align}\n",
    "\n",
    "In more compact notation this is written\n",
    "\n",
    "\\begin{align}\n",
    "|+\\rangle, &\\quad |-\\rangle \\\\\n",
    "|l\\rangle, &\\quad |r\\rangle \\\\\n",
    "|0\\rangle, &\\quad |1\\rangle .\n",
    "\\end{align}"
   ]
  },
  {
   "cell_type": "markdown",
   "metadata": {},
   "source": [
    "Using this notation, we can define three different density matrices, \n",
    "\n",
    "\\begin{align}\n",
    "\\rho_X &= \\frac{1}{2}|+\\rangle \\langle +| + \\frac{1}{2}|- \\rangle \\langle -| \\\\\n",
    "\\rho_Y &= \\frac{1}{2}|l\\rangle \\langle l| + \\frac{1}{2}|r \\rangle \\langle r| \\\\\n",
    "\\rho_Z &= \\frac{1}{2}|0\\rangle \\langle 0| + \\frac{1}{2}|1 \\rangle \\langle 1|.\n",
    "\\end{align}\n",
    "\n",
    "Now, you should take a moment to verify by hand that these three density matrices are all the same! For two *orthogonal* state, this will always be the case. Once you've done that, let's check in Python that $\\rho_X = \\rho_Y = \\rho_Z$. First, let's define all of the state vectors we need. "
   ]
  },
  {
   "cell_type": "code",
   "execution_count": 8,
   "metadata": {},
   "outputs": [],
   "source": [
    "# spin-up (Z-basis)\n",
    "u = np.matrix([[1],\n",
    "               [0]])\n",
    "\n",
    "# spin-down (Z-basis)\n",
    "d = np.matrix([[0],\n",
    "               [1]])\n",
    "\n",
    "#spin-plus (Y-basis)\n",
    "p = (u + 1j*d)/(np.sqrt(2))\n",
    "\n",
    "# spin-minus (Y-basis)\n",
    "m = (u - 1j*d)/(np.sqrt(2))\n",
    "\n",
    "#spin-left (X-basis)\n",
    "l = (u + d)/(np.sqrt(2))\n",
    "\n",
    "#spin-right (X-basis)\n",
    "r = (u - d)/(np.sqrt(2))"
   ]
  },
  {
   "cell_type": "markdown",
   "metadata": {},
   "source": [
    "Now, let's define the three density matrices."
   ]
  },
  {
   "cell_type": "code",
   "execution_count": 9,
   "metadata": {},
   "outputs": [],
   "source": [
    "# Density operator for Z-basis\n",
    "rhoZ = np.dot(u, u.H)/2 + np.dot(d, d.H)/2\n",
    "\n",
    "# Density operator for X-basis\n",
    "rhoX = np.dot(p, p.H)/2 + np.dot(m, m.H)/2\n",
    "\n",
    "# Density operator for Y-basis\n",
    "rhoY = np.dot(l, l.H)/2 + np.dot(r, r.H)/2"
   ]
  },
  {
   "cell_type": "markdown",
   "metadata": {},
   "source": [
    "Now, let's check to see if these three matrices are equal. "
   ]
  },
  {
   "cell_type": "code",
   "execution_count": 10,
   "metadata": {},
   "outputs": [
    {
     "name": "stdout",
     "output_type": "stream",
     "text": [
      "[[0.5 0. ]\n",
      " [0.  0.5]]\n"
     ]
    }
   ],
   "source": [
    "print(rhoZ)"
   ]
  },
  {
   "cell_type": "code",
   "execution_count": 11,
   "metadata": {},
   "outputs": [
    {
     "name": "stdout",
     "output_type": "stream",
     "text": [
      "[[0.5+0.j 0. +0.j]\n",
      " [0. +0.j 0.5+0.j]]\n"
     ]
    }
   ],
   "source": [
    "print(rhoX)"
   ]
  },
  {
   "cell_type": "code",
   "execution_count": 12,
   "metadata": {},
   "outputs": [
    {
     "name": "stdout",
     "output_type": "stream",
     "text": [
      "[[0.5 0. ]\n",
      " [0.  0.5]]\n"
     ]
    }
   ],
   "source": [
    "print(rhoY)"
   ]
  },
  {
   "cell_type": "markdown",
   "metadata": {},
   "source": [
    "Visual inspection verifies that they are indeed all equal. We can also run a [test](https://docs.scipy.org/doc/numpy/reference/generated/numpy.testing.assert_almost_equal.html) to check equality within some error tolerance, which is necessary (`==` will not be sufficient due to the complex entries in `rhoX`). The format for this test is \n",
    "\n",
    "`np.testing.assert_almost_equal(actual, desired, decimal=7, err_msg='', verbose=True)`\n",
    "\n",
    "To see that `==` is insufficient, let's try it. "
   ]
  },
  {
   "cell_type": "code",
   "execution_count": 13,
   "metadata": {},
   "outputs": [
    {
     "data": {
      "text/plain": [
       "matrix([[False,  True],\n",
       "        [ True, False]])"
      ]
     },
     "execution_count": 13,
     "metadata": {},
     "output_type": "execute_result"
    }
   ],
   "source": [
    "rhoZ==rhoX"
   ]
  },
  {
   "cell_type": "code",
   "execution_count": 14,
   "metadata": {},
   "outputs": [
    {
     "data": {
      "text/plain": [
       "matrix([[False,  True],\n",
       "        [ True, False]])"
      ]
     },
     "execution_count": 14,
     "metadata": {},
     "output_type": "execute_result"
    }
   ],
   "source": [
    "rhoY==rhoZ"
   ]
  },
  {
   "cell_type": "markdown",
   "metadata": {},
   "source": [
    "Now, let's use the test function. "
   ]
  },
  {
   "cell_type": "code",
   "execution_count": 15,
   "metadata": {},
   "outputs": [],
   "source": [
    "np.testing.assert_almost_equal(rhoZ, rhoX, decimal=6, verbose=True)\n",
    "np.testing.assert_almost_equal(rhoY, rhoZ, decimal=6, verbose=True)"
   ]
  },
  {
   "cell_type": "markdown",
   "metadata": {},
   "source": [
    "No output means the test was passed and the two are equal up to six decimal places. In Chapter 29 $\\S 5$, Roger Penrose discusses how this kind of behavior of density matrices calls into question the validity of the \"*environmental decoherence*\" interpretation of quantum physics. In particular, the issue of having multiple states correspond to the same density matrix is useful when the environment is incredibly complicated, however the density matrix formalism makes distinguishing relative phase factors impossible and it also conflates many possible states. Some do take the density matrix to be \"*true reality*\" though and  dispute trying to distinguish the various states that could lead to the same density matrix. Moreover, there may be cases where phase factors might get lost at a small enough scale, such as at the Planck length of $10^{-33}cm$ or at $10^{-43}s$ at the Plack scale of time. At such small scales, gravitational effects may cause loss of phase factors. \n",
    "\n",
    "We may use the following criteria to determine when two sets of state vectors result in the **same** desnity operator:\n",
    "\n",
    "Let $\\{|\\psi_i\\rangle \\}$ and $\\{|\\phi_j\\rangle \\}$ be two sets of state vectors, which are not necessarily the same size, and which are *not* assumed to be normalized to unit length. Pad whichever set is smaller with additonal $0$ vectors so that the two sets are of the same size. Then these two sets of vectors lead to the same density operator if and only if\n",
    "\n",
    "\\begin{align}\n",
    "|\\psi_i\\rangle = \\sum_j u_{ij} |\\phi_j\\rangle, \n",
    "\\end{align}\n",
    "\n",
    "where $u_{ij}$ is a unitary matrix of complex numbers. \n",
    "\n",
    "### Pure State, Mixed States, and more Ontology\n",
    "\n",
    "The fact that all of these density matrices are equal is an interesting property of density matrices. They combine classical probability with the probabilities obtained from complex amplitudes using the [Born rule](https://en.wikipedia.org/wiki/Born_rule), which says the probability of measuring a particular state is the norm of the amplitude of the state vector. This sometimes is interpreted as meaning that density matrices are more fundamental, or should be considered base reality, over the state vector description. When the word \"*state*\" is used in the density matrix sense, we use **pure state** to mean a state of the form $|\\psi \\rangle \\langle \\psi|$. A **mixed state** is a density matrix state that cannot be written in this way. A Bell state would be an example of a *mixed state*, and the three examples we just covered for a single qubit would all be examples of *pure states*. We may also use the following condition to determine if a state is pure:\n",
    "\n",
    "For a density operator $\\rho$, we have $Tr(\\rho^2) \\leq 1$, with equality **if and only if** $\\rho$ is a **pure state**. "
   ]
  },
  {
   "cell_type": "markdown",
   "metadata": {},
   "source": [
    "In the density matrix formalism, if we have a state vector $e^{i \\theta}|\\psi\\rangle$, then\n",
    "\n",
    "\\begin{align}\n",
    "e^{i \\theta}|\\psi\\rangle \\langle \\psi |e^{-i \\theta} = |\\psi\\rangle \\langle \\psi |, \n",
    "\\end{align}\n",
    "\n",
    "since $e^{i \\theta}e^{-i \\theta} = 1$, and so \"*global phase factors*\" of the form $e^{i \\theta}$ are often disregarded, since in the density matrix formalism they go away. In this way, the density matrix $|\\psi \\rangle \\langle \\psi |$ is seen as equivalent to the state vector $|\\psi \\rangle$ \"up to a phase factor\". However, the phase factor $e^{i \\theta}$ is only unobservable if the state of the entire system is described by $|\\psi\\rangle$. If on the other hand $|\\psi\\rangle$ only describes a subsystem of the total system under consideration, the \"*relative*\" phase factors between the various state vectors is important and must be kept track of. "
   ]
  },
  {
   "cell_type": "markdown",
   "metadata": {},
   "source": [
    "### Relation to the Bloch Sphere"
   ]
  },
  {
   "cell_type": "markdown",
   "metadata": {},
   "source": [
    "The solid ball $B^3$ inside three dimensional Euclidean space can be used to represent the density matrices corresponding to all mixed and pure states of a $2$-state system such as a qubit. The boundary of this ball is what we have been calling the **Bloch sphere**. A general $2 \\times 2$ Hermitian matrix with trace equal to $1$ is, \n",
    "\n",
    "\\begin{align}\n",
    "\\frac{1}{2}\n",
    "\\begin{pmatrix}\n",
    "1+a & b+ic \\\\\n",
    "b-ic & 1-a\n",
    "\\end{pmatrix}, \n",
    "\\end{align}\n",
    "\n",
    "with $a, b, c \\in \\mathbb{R}$ real numbers. For this to be a density matrix we must have \n",
    "\n",
    "\\begin{align}\n",
    "a^2 + b^2 + c^2 \\leq 1. \n",
    "\\end{align}\n",
    "\n",
    "The boundary, given by matrices with \n",
    "\n",
    "\\begin{align}\n",
    "a^2 + b^2 + c^2 = 1\n",
    "\\end{align}\n",
    "\n",
    "is the space of *pure states*, and can be identified with the **Riemann sphere**. Let's look at another possible density matrix for a $2$-state system such as a qubit. "
   ]
  },
  {
   "cell_type": "markdown",
   "metadata": {},
   "source": [
    "Suppose we have the density matrix\n",
    "\n",
    "\\begin{align}\n",
    "\\rho &= \\frac{1}{3}|l\\rangle \\langle l| + \\frac{2}{3}|0\\rangle \\langle 0| \\\\\n",
    "&= \\frac{1}{3} \n",
    "\\begin{pmatrix}\n",
    "1/2 & 1/2 \\\\\n",
    "1/2 & 1/2\n",
    "\\end{pmatrix} + \n",
    "\\frac{2}{3}\n",
    "\\begin{pmatrix}\n",
    "1 & 0 \\\\\n",
    "0 & 0\n",
    "\\end{pmatrix} \\\\\n",
    "&= \n",
    "\\begin{pmatrix}\n",
    "5/6 & 1/6 \\\\\n",
    "1/6 & 1/6\n",
    "\\end{pmatrix}.\n",
    "\\end{align}\n",
    "\n",
    "Let's check this in Python. "
   ]
  },
  {
   "cell_type": "code",
   "execution_count": 16,
   "metadata": {},
   "outputs": [
    {
     "name": "stdout",
     "output_type": "stream",
     "text": [
      "[[0.83333333 0.16666667]\n",
      " [0.16666667 0.16666667]]\n"
     ]
    }
   ],
   "source": [
    "L = np.dot(l, l.H)\n",
    "U = np.dot(u, u.H)\n",
    "rho_LU = L/3 + 2*U/3\n",
    "print(rho_LU)"
   ]
  },
  {
   "cell_type": "markdown",
   "metadata": {},
   "source": [
    "Note that these two state $|l\\rangle$ and $|0\\rangle$ are not orthogonal to each other. "
   ]
  },
  {
   "cell_type": "markdown",
   "metadata": {},
   "source": [
    "### GHZ-State Example"
   ]
  },
  {
   "cell_type": "markdown",
   "metadata": {},
   "source": [
    "As another example, let's compute the density matrix for the GHZ-state, \n",
    "\n",
    "\\begin{align}\n",
    "|GHZ_3\\rangle = \\frac{|000\\rangle + |111\\rangle}{\\sqrt{2}}.\n",
    "\\end{align}\n",
    "\n",
    "This state can be prepared using the following circuit:"
   ]
  },
  {
   "cell_type": "code",
   "execution_count": 17,
   "metadata": {},
   "outputs": [],
   "source": [
    "qr = QuantumRegister(3)\n",
    "cr = ClassicalRegister(3)\n",
    "GHZ = QuantumCircuit(qr, cr)"
   ]
  },
  {
   "cell_type": "code",
   "execution_count": 18,
   "metadata": {},
   "outputs": [
    {
     "data": {
      "image/png": "[encoded data removed]",
      "text/plain": [
       "<Figure size 369.628x264.88 with 1 Axes>"
      ]
     },
     "execution_count": 18,
     "metadata": {},
     "output_type": "execute_result"
    }
   ],
   "source": [
    "GHZ.h(0)\n",
    "GHZ.cx(0,1)\n",
    "GHZ.cx(1,2)\n",
    "GHZ.draw(output='mpl')"
   ]
  },
  {
   "cell_type": "markdown",
   "metadata": {},
   "source": [
    "Now, let's run the circuit on the `statevector_simulator` backend and print the resulting state vector as a column (ket) vector. "
   ]
  },
  {
   "cell_type": "code",
   "execution_count": 19,
   "metadata": {},
   "outputs": [
    {
     "name": "stdout",
     "output_type": "stream",
     "text": [
      "[[0.70710678-0.j]\n",
      " [0.        -0.j]\n",
      " [0.        -0.j]\n",
      " [0.        -0.j]\n",
      " [0.        -0.j]\n",
      " [0.        -0.j]\n",
      " [0.        -0.j]\n",
      " [0.70710678-0.j]]\n"
     ]
    }
   ],
   "source": [
    "backend = Aer.get_backend('statevector_simulator') \n",
    "GHZ_state = execute(GHZ,backend).result().get_statevector()\n",
    "print(np.matrix(GHZ_state).H)"
   ]
  },
  {
   "cell_type": "markdown",
   "metadata": {},
   "source": [
    "We can express this as an ensemble of states, \n",
    "\n",
    "\\begin{align}\n",
    "\\rho_{GHZ} = \\sum_{k=1}^2 p_k|\\psi_k\\rangle \\langle \\psi_k|\n",
    "\\end{align}\n",
    "\n",
    "where \n",
    "\n",
    "\\begin{align}\n",
    "|\\psi_1\\rangle &= |000\\rangle \\\\\n",
    "|\\psi_2\\rangle &= |111\\rangle, \n",
    "\\end{align}\n",
    "\n",
    "and the probabilities are $p_1 = p_2 = (1/\\sqrt{2})^2 = 1/2$. In this case we get\n",
    "\n",
    "\\begin{align}\n",
    "\\rho_{GHZ} &= \\frac{1}{2}|000\\rangle \\langle 000| + \\frac{1}{2}|111\\rangle \\langle 111| \\\\\n",
    "&= \\frac{1}{2}\n",
    "\\begin{pmatrix}\n",
    "1 & 0 & 0 & 0 & 0 & 0 & 0 & 0 \\\\\n",
    "0 & 0 & 0 & 0 & 0 & 0 & 0 & 0 \\\\\n",
    "0 & 0 & 0 & 0 & 0 & 0 & 0 & 0 \\\\\n",
    "0 & 0 & 0 & 0 & 0 & 0 & 0 & 0 \\\\\n",
    "0 & 0 & 0 & 0 & 0 & 0 & 0 & 0 \\\\\n",
    "0 & 0 & 0 & 0 & 0 & 0 & 0 & 0 \\\\\n",
    "0 & 0 & 0 & 0 & 0 & 0 & 0 & 0 \\\\\n",
    "0 & 0 & 0 & 0 & 0 & 0 & 0 & 0\n",
    "\\end{pmatrix} + \n",
    "\\frac{1}{2}\n",
    "\\begin{pmatrix}\n",
    "0 & 0 & 0 & 0 & 0 & 0 & 0 & 0 \\\\\n",
    "0 & 0 & 0 & 0 & 0 & 0 & 0 & 0 \\\\\n",
    "0 & 0 & 0 & 0 & 0 & 0 & 0 & 0 \\\\\n",
    "0 & 0 & 0 & 0 & 0 & 0 & 0 & 0 \\\\\n",
    "0 & 0 & 0 & 0 & 0 & 0 & 0 & 0 \\\\\n",
    "0 & 0 & 0 & 0 & 0 & 0 & 0 & 0 \\\\\n",
    "0 & 0 & 0 & 0 & 0 & 0 & 0 & 0 \\\\\n",
    "0 & 0 & 0 & 0 & 0 & 0 & 0 & 1\n",
    "\\end{pmatrix}\\\\\n",
    "&= \n",
    "\\begin{pmatrix}\n",
    "1/2 & 0 & 0 & 0 & 0 & 0 & 0 & 0 \\\\\n",
    "0 & 0 & 0 & 0 & 0 & 0 & 0 & 0 \\\\\n",
    "0 & 0 & 0 & 0 & 0 & 0 & 0 & 0 \\\\\n",
    "0 & 0 & 0 & 0 & 0 & 0 & 0 & 0 \\\\\n",
    "0 & 0 & 0 & 0 & 0 & 0 & 0 & 0 \\\\\n",
    "0 & 0 & 0 & 0 & 0 & 0 & 0 & 0 \\\\\n",
    "0 & 0 & 0 & 0 & 0 & 0 & 0 & 0 \\\\\n",
    "0 & 0 & 0 & 0 & 0 & 0 & 0 & 1/2\n",
    "\\end{pmatrix}.\n",
    "\\end{align}"
   ]
  },
  {
   "cell_type": "markdown",
   "metadata": {},
   "source": [
    "We can check this in Python as follows, "
   ]
  },
  {
   "cell_type": "code",
   "execution_count": 20,
   "metadata": {},
   "outputs": [],
   "source": [
    "# Define spin-up ket |0>\n",
    "u = np.matrix([[1],\n",
    "               [0]])\n",
    "\n",
    "#Define spin-down ket |1>\n",
    "d = np.matrix([[0],\n",
    "               [1]])\n",
    "\n",
    "# Define |00>\n",
    "uu = np.kron(u,u)\n",
    "\n",
    "# Define |11>\n",
    "dd = np.kron(d,d)\n",
    "\n",
    "# Define |000>\n",
    "uuu = np.kron(u, uu)\n",
    "\n",
    "#Define |111>\n",
    "ddd = np.kron(d, dd)"
   ]
  },
  {
   "cell_type": "code",
   "execution_count": 21,
   "metadata": {},
   "outputs": [
    {
     "name": "stdout",
     "output_type": "stream",
     "text": [
      "[[0.5 0.  0.  0.  0.  0.  0.  0. ]\n",
      " [0.  0.  0.  0.  0.  0.  0.  0. ]\n",
      " [0.  0.  0.  0.  0.  0.  0.  0. ]\n",
      " [0.  0.  0.  0.  0.  0.  0.  0. ]\n",
      " [0.  0.  0.  0.  0.  0.  0.  0. ]\n",
      " [0.  0.  0.  0.  0.  0.  0.  0. ]\n",
      " [0.  0.  0.  0.  0.  0.  0.  0. ]\n",
      " [0.  0.  0.  0.  0.  0.  0.  0. ]]\n"
     ]
    }
   ],
   "source": [
    "# Define the outer product (1/2)|000><000|\n",
    "P1 = np.dot(uuu, uuu.H)/2\n",
    "print(P1)"
   ]
  },
  {
   "cell_type": "code",
   "execution_count": 22,
   "metadata": {},
   "outputs": [
    {
     "name": "stdout",
     "output_type": "stream",
     "text": [
      "[[0.  0.  0.  0.  0.  0.  0.  0. ]\n",
      " [0.  0.  0.  0.  0.  0.  0.  0. ]\n",
      " [0.  0.  0.  0.  0.  0.  0.  0. ]\n",
      " [0.  0.  0.  0.  0.  0.  0.  0. ]\n",
      " [0.  0.  0.  0.  0.  0.  0.  0. ]\n",
      " [0.  0.  0.  0.  0.  0.  0.  0. ]\n",
      " [0.  0.  0.  0.  0.  0.  0.  0. ]\n",
      " [0.  0.  0.  0.  0.  0.  0.  0.5]]\n"
     ]
    }
   ],
   "source": [
    "# Define the outer product (1/2)|111><111|\n",
    "P2 = np.dot(ddd, ddd.H)/2\n",
    "print(P2)"
   ]
  },
  {
   "cell_type": "code",
   "execution_count": 23,
   "metadata": {},
   "outputs": [
    {
     "name": "stdout",
     "output_type": "stream",
     "text": [
      "[[0.5 0.  0.  0.  0.  0.  0.  0. ]\n",
      " [0.  0.  0.  0.  0.  0.  0.  0. ]\n",
      " [0.  0.  0.  0.  0.  0.  0.  0. ]\n",
      " [0.  0.  0.  0.  0.  0.  0.  0. ]\n",
      " [0.  0.  0.  0.  0.  0.  0.  0. ]\n",
      " [0.  0.  0.  0.  0.  0.  0.  0. ]\n",
      " [0.  0.  0.  0.  0.  0.  0.  0. ]\n",
      " [0.  0.  0.  0.  0.  0.  0.  0.5]]\n"
     ]
    }
   ],
   "source": [
    "# Define the density matrix\n",
    "rho = P1+P2\n",
    "print(rho)"
   ]
  },
  {
   "cell_type": "markdown",
   "metadata": {},
   "source": [
    "## Unitary Evolution"
   ]
  },
  {
   "cell_type": "markdown",
   "metadata": {},
   "source": [
    "When we describe how a quantum system evolves over time, we generally use *unitary* operators. In the circuit diagram notation, gates can always be represented by unitary matrices. Suppose the unitary matrix $U$ describes how a system evolves. Then, in the density matrix notation this take each state $|\\psi_k\\rangle$ with probability $p_k$, to the state $U|\\psi_k\\rangle$ with probability $p_k$. This changes the density matrix as follows, \n",
    "\n",
    "\\begin{align}\n",
    "\\rho = \\sum_k p_k |\\psi_k\\rangle \\langle \\psi_k| &\\to \\sum_k p_i U|\\psi_k\\rangle \\langle \\psi_k|U^{\\dagger}\\\\\n",
    "&= U\\rho U^{\\dagger}.\n",
    "\\end{align}"
   ]
  },
  {
   "cell_type": "markdown",
   "metadata": {},
   "source": [
    "As an example, let's take the Bell state $\\beta_{00}$ and allow the unitary operator $X_0Y_1 = X \\otimes Y$ to operator on the state $\\beta_{00}$. This can be represented mathematically as,\n",
    "\n",
    "\\begin{align}\n",
    "(X \\otimes Y)\\frac{|00\\rangle + |11\\rangle}{\\sqrt{2}} &= \n",
    "\\begin{pmatrix}\n",
    "0 & 1 \\\\\n",
    "1 & 0\n",
    "\\end{pmatrix} \\otimes \n",
    "\\begin{pmatrix}\n",
    "0 & -i\\\\\n",
    "i & 0\n",
    "\\end{pmatrix}\n",
    "\\begin{pmatrix}\n",
    "1/\\sqrt{2} \\\\\n",
    "0 \\\\\n",
    "0 \\\\\n",
    "1/\\sqrt{2}\n",
    "\\end{pmatrix}\\\\\n",
    "& = \n",
    "\\begin{pmatrix}\n",
    "0 & 0 & 0 & -i \\\\\n",
    "0 & 0 & i & 0 \\\\\n",
    "0 & -i & 0 & 0 \\\\\n",
    "i & 0 & 0 & 0 \n",
    "\\end{pmatrix}\n",
    "\\begin{pmatrix}\n",
    "1/\\sqrt{2} \\\\\n",
    "0 \\\\\n",
    "0 \\\\\n",
    "1/\\sqrt{2}\n",
    "\\end{pmatrix}\\\\\n",
    "&= \n",
    "\\begin{pmatrix}\n",
    "-i/\\sqrt{2} \\\\\n",
    "0 \\\\\n",
    "0 \\\\\n",
    "i/\\sqrt{2}\n",
    "\\end{pmatrix}\\\\\n",
    "&= \\frac{-i|00\\rangle + i|11\\rangle}{\\sqrt{2}}\\\\\n",
    "&= -i\\frac{|00\\rangle - |11\\rangle}{\\sqrt{2}}\n",
    "\\end{align}\n",
    "\n",
    "In general, the factor $-i$ in front is called a global phase, and is disregarded. Now, let's check this using a circuit. "
   ]
  },
  {
   "cell_type": "code",
   "execution_count": 24,
   "metadata": {},
   "outputs": [
    {
     "data": {
      "image/png": "[encoded data removed]",
      "text/plain": [
       "<Figure size 369.628x204.68 with 1 Axes>"
      ]
     },
     "execution_count": 24,
     "metadata": {},
     "output_type": "execute_result"
    }
   ],
   "source": [
    "qr00 = QuantumRegister(2)\n",
    "cr00 = ClassicalRegister(2)\n",
    "Bell00 = QuantumCircuit(qr00, cr00)\n",
    "Bell00.h(0)\n",
    "Bell00.cx(0,1)\n",
    "Bell00.x(0)\n",
    "Bell00.y(1)\n",
    "Bell00.draw(output='mpl')"
   ]
  },
  {
   "cell_type": "markdown",
   "metadata": {},
   "source": [
    "Now, let's run the circuit on the `statevector_simulator` and print the resulting state vector as a column vector. "
   ]
  },
  {
   "cell_type": "code",
   "execution_count": 25,
   "metadata": {},
   "outputs": [
    {
     "name": "stdout",
     "output_type": "stream",
     "text": [
      "[[0.+0.70710678j]\n",
      " [0.-0.j        ]\n",
      " [0.-0.j        ]\n",
      " [0.-0.70710678j]]\n"
     ]
    }
   ],
   "source": [
    "backend = Aer.get_backend('statevector_simulator') \n",
    "beta00 = execute(Bell00,backend).result().get_statevector()\n",
    "print(np.matrix(beta00).H)"
   ]
  },
  {
   "cell_type": "markdown",
   "metadata": {},
   "source": [
    "This output vector (disregarding the global phase factor of $-i$) is indeed\n",
    "\n",
    "\\begin{align}\n",
    "\\frac{|00\\rangle - |11\\rangle}{\\sqrt{2}}.\n",
    "\\end{align}\n",
    "\n",
    "Now, we can rewrite this as follows,\n",
    "\n",
    "\\begin{align}\n",
    "\\frac{|00\\rangle - |11\\rangle}{\\sqrt{2}} &= \\frac{1}{\\sqrt{2}}|00\\rangle - \\frac{1}{\\sqrt{2}}|11\\rangle \\\\\n",
    "&= \\frac{1}{\\sqrt{2}}|\\psi_1\\rangle + \\frac{1}{\\sqrt{2}}|\\psi_2\\rangle\n",
    "\\end{align}\n",
    "\n",
    "where\n",
    "\n",
    "\\begin{align}\n",
    "|\\psi_1\\rangle &= |00\\rangle \\\\\n",
    "|\\psi_2\\rangle &= -|11\\rangle.\n",
    "\\end{align}\n",
    "\n",
    "The corresponding probabilities obtained from the amplitudes are $p_1 = p_2 = (1/\\sqrt{2})^2 = 1/2$. So, we can write\n",
    "\n",
    "\\begin{align}\n",
    "p_1 |\\psi_1\\rangle \\langle \\psi_1| &= \\frac{1}{2}\n",
    "\\begin{pmatrix}\n",
    "1 & 0 & 0 & 0 \\\\\n",
    "0 & 0 & 0 & 0 \\\\\n",
    "0 & 0 & 0 & 0 \\\\\n",
    "0 & 0 & 0 & 0 \n",
    "\\end{pmatrix}\\\\\n",
    "p_2 |\\psi_2\\rangle \\langle \\psi_2| &= \\frac{1}{2}\n",
    "\\begin{pmatrix}\n",
    "0 & 0 & 0 & 0 \\\\\n",
    "0 & 0 & 0 & 0 \\\\\n",
    "0 & 0 & 0 & 0 \\\\\n",
    "0 & 0 & 0 & 1 \n",
    "\\end{pmatrix}.\n",
    "\\end{align}\n",
    "\n",
    "From this we gather that the density matrix after the application of the $X$-gate and $Y$-gate should be, \n",
    "\n",
    "\\begin{align}\n",
    "(X \\otimes Y)\\rho (X \\otimes Y)^{\\dagger} = \n",
    "\\begin{pmatrix}\n",
    "1/2 & 0 & 0 & 0\\\\\n",
    "0 & 0 & 0 & 0\\\\\n",
    "0 & 0 & 0 & 0\\\\\n",
    "0 & 0 & 0 & 1/2\n",
    "\\end{pmatrix}.\n",
    "\\end{align}"
   ]
  },
  {
   "cell_type": "markdown",
   "metadata": {},
   "source": [
    "Represented in the density matrix notation using $U = X \\otimes Y$, let's check that this is actually true. \n",
    "\n",
    "\\begin{align}\n",
    "U\\rho U^{\\dagger} &= \\frac{1}{2} (X \\otimes Y)|00\\rangle \\langle 00|(X \\otimes Y)^{\\dagger} + \\frac{1}{2} (X \\otimes Y)|11\\rangle \\langle 11|(X \\otimes Y)^{\\dagger} \\\\\n",
    "&= \n",
    "\\frac{1}{2}\n",
    "\\begin{pmatrix}\n",
    "0 & 0 & 0 & -i \\\\\n",
    "0 & 0 & i & 0 \\\\\n",
    "0 & -i & 0 & 0 \\\\\n",
    "i & 0 & 0 & 0 \n",
    "\\end{pmatrix}\n",
    "\\begin{pmatrix}\n",
    "1 \\\\ 0 \\\\ 0 \\\\ 0\n",
    "\\end{pmatrix}\n",
    "\\begin{pmatrix}\n",
    "1, & 0, & 0, & 0\n",
    "\\end{pmatrix}\n",
    "\\begin{pmatrix}\n",
    "0 & 0 & 0 & -i \\\\\n",
    "0 & 0 & i & 0 \\\\\n",
    "0 & -i & 0 & 0 \\\\\n",
    "i & 0 & 0 & 0 \n",
    "\\end{pmatrix}+\n",
    "\\frac{1}{2}\n",
    "\\begin{pmatrix}\n",
    "0 & 0 & 0 & -i \\\\\n",
    "0 & 0 & i & 0 \\\\\n",
    "0 & -i & 0 & 0 \\\\\n",
    "i & 0 & 0 & 0 \n",
    "\\end{pmatrix}\n",
    "\\begin{pmatrix}\n",
    "0 \\\\ 0 \\\\ 0 \\\\ 1\n",
    "\\end{pmatrix}\n",
    "\\begin{pmatrix}\n",
    "0, & 0, & 0, & 1\n",
    "\\end{pmatrix}\n",
    "\\begin{pmatrix}\n",
    "0 & 0 & 0 & -i \\\\\n",
    "0 & 0 & i & 0 \\\\\n",
    "0 & -i & 0 & 0 \\\\\n",
    "i & 0 & 0 & 0 \n",
    "\\end{pmatrix}\\\\\n",
    "&= \n",
    "\\frac{1}{2}\n",
    "\\begin{pmatrix}\n",
    "0 & 0 & 0 & -i \\\\\n",
    "0 & 0 & i & 0 \\\\\n",
    "0 & -i & 0 & 0 \\\\\n",
    "i & 0 & 0 & 0 \n",
    "\\end{pmatrix}\n",
    "\\begin{pmatrix}\n",
    "1 & 0 & 0 & 0\\\\\n",
    "0 & 0 & 0 & 0\\\\\n",
    "0 & 0 & 0 & 0\\\\\n",
    "0 & 0 & 0 & 0\\\\\n",
    "\\end{pmatrix}\n",
    "\\begin{pmatrix}\n",
    "0 & 0 & 0 & -i \\\\\n",
    "0 & 0 & i & 0 \\\\\n",
    "0 & -i & 0 & 0 \\\\\n",
    "i & 0 & 0 & 0 \n",
    "\\end{pmatrix}+\n",
    "\\frac{1}{2}\n",
    "\\begin{pmatrix}\n",
    "0 & 0 & 0 & -i \\\\\n",
    "0 & 0 & i & 0 \\\\\n",
    "0 & -i & 0 & 0 \\\\\n",
    "i & 0 & 0 & 0 \n",
    "\\end{pmatrix}\n",
    "\\begin{pmatrix}\n",
    "0 & 0 & 0 & 0\\\\\n",
    "0 & 0 & 0 & 0\\\\\n",
    "0 & 0 & 0 & 0\\\\\n",
    "0 & 0 & 0 & 1\\\\\n",
    "\\end{pmatrix}\n",
    "\\begin{pmatrix}\n",
    "0 & 0 & 0 & -i \\\\\n",
    "0 & 0 & i & 0 \\\\\n",
    "0 & -i & 0 & 0 \\\\\n",
    "i & 0 & 0 & 0 \n",
    "\\end{pmatrix}\\\\\n",
    "\\end{align}"
   ]
  },
  {
   "cell_type": "markdown",
   "metadata": {},
   "source": [
    "Simplifying this we get, \n",
    "\n",
    "\\begin{align}\n",
    "\\frac{1}{2}\n",
    "\\begin{pmatrix}\n",
    "0 & 0 & 0 & 0 \\\\\n",
    "0 & 0 & 0 & 0 \\\\\n",
    "0 & 0 & 0 & 0 \\\\\n",
    "0 & 0 & 0 & 1 \n",
    "\\end{pmatrix}+\n",
    "\\frac{1}{2}\n",
    "\\begin{pmatrix}\n",
    "1 & 0 & 0 & 0 \\\\\n",
    "0 & 0 & 0 & 0 \\\\\n",
    "0 & 0 & 0 & 0 \\\\\n",
    "0 & 0 & 0 & 0 \n",
    "\\end{pmatrix} &= \n",
    "\\begin{pmatrix}\n",
    "1/2 & 0 & 0 & 0\\\\\n",
    "0 & 0 & 0 & 0\\\\\n",
    "0 & 0 & 0 & 0\\\\\n",
    "0 & 0 & 0 & 1/2\n",
    "\\end{pmatrix} = \\rho. \n",
    "\\end{align}\n",
    "\n",
    "So, we do in fact get the same density matrix after conjugating by $U = X \\otimes Y$ (i.e. after applying the $X$-gate and $Y$-gate as in the circuit diagram), and for this example, \n",
    "\n",
    "\\begin{align}\n",
    "U\\rho U^{\\dagger} = \\rho. \n",
    "\\end{align}\n",
    "\n",
    "Let's check this with Python. "
   ]
  },
  {
   "cell_type": "code",
   "execution_count": 26,
   "metadata": {},
   "outputs": [
    {
     "name": "stdout",
     "output_type": "stream",
     "text": [
      "[[0.+0.j 0.-0.j 0.+0.j 0.-1.j]\n",
      " [0.+0.j 0.+0.j 0.+1.j 0.+0.j]\n",
      " [0.+0.j 0.-1.j 0.+0.j 0.-0.j]\n",
      " [0.+1.j 0.+0.j 0.+0.j 0.+0.j]]\n"
     ]
    }
   ],
   "source": [
    "# Define the X and Y gates\n",
    "X = np.matrix([[0, 1],\n",
    "               [1, 0]])\n",
    "\n",
    "Y = np.matrix([[0, -1j],\n",
    "               [1j, 0]])\n",
    "\n",
    "# Define U\n",
    "U = np.kron(X, Y)\n",
    "print(U)"
   ]
  },
  {
   "cell_type": "code",
   "execution_count": 27,
   "metadata": {},
   "outputs": [],
   "source": [
    "# Define the state (1/2)|00><00|\n",
    "b1 = np.dot(uu, uu.H)/2\n",
    "# Define the state (1/2)|11><11|\n",
    "b2 = np.dot(dd, dd.H)/2"
   ]
  },
  {
   "cell_type": "code",
   "execution_count": 28,
   "metadata": {},
   "outputs": [
    {
     "name": "stdout",
     "output_type": "stream",
     "text": [
      "[[0.5+0.j 0. +0.j 0. +0.j 0. +0.j]\n",
      " [0. +0.j 0. +0.j 0. +0.j 0. +0.j]\n",
      " [0. +0.j 0. +0.j 0. +0.j 0. +0.j]\n",
      " [0. +0.j 0. +0.j 0. +0.j 0.5+0.j]]\n"
     ]
    }
   ],
   "source": [
    "D = (U*b1)*(U.H) + (U*b2)*(U.H)\n",
    "print(D)"
   ]
  },
  {
   "cell_type": "markdown",
   "metadata": {},
   "source": [
    "This is again \n",
    "\n",
    "\\begin{align}\n",
    "\\rho = \n",
    "\\begin{pmatrix}\n",
    "1/2 & 0 & 0 & 0 \\\\\n",
    "0 & 0 & 0 & 0 \\\\\n",
    "0 & 0 & 0 & 0 \\\\\n",
    "0 & 0 & 0 & 1/2\n",
    "\\end{pmatrix}\n",
    "\\end{align}\n",
    "\n",
    "as expected. "
   ]
  },
  {
   "cell_type": "markdown",
   "metadata": {},
   "source": [
    "## Measurements"
   ]
  },
  {
   "cell_type": "markdown",
   "metadata": {},
   "source": [
    "We can also represent measurements in the density matrix notation. If we have a set of measurement operators $\\{M_m\\}$. Let $|\\psi_k\\rangle$ be the initial state of a quantum system. The probability of getting result $m$ is\n",
    "\n",
    "\\begin{align}\n",
    "p(m|k) &= \\langle \\psi_k|M_m^{\\dagger}M_m|\\psi_k\\rangle \\\\\n",
    "&= Tr \\left(M^{\\dagger}_mM_m|\\psi_k\\rangle \\langle \\psi_k|\\right),\n",
    "\\end{align}\n",
    "\n",
    "where $Tr$ denotes the trace. The second equality can be obtained using the *Gram-Schmidt* procedure for obtaining an orthonormal basis (using the measurement operators). "
   ]
  },
  {
   "cell_type": "markdown",
   "metadata": {},
   "source": [
    "The probability of result $m$ is\n",
    "\n",
    "\\begin{align}\n",
    "p(m) &= \\sum_k p(m|k)p_k\\\\\n",
    "&= \\sum_k p_k Tr \\left(M_m^{\\dagger}M_m|psi_k\\rangle \\langle \\psi_k| \\right)\\\\\n",
    "&= Tr \\left(M_m^{\\dagger}M_m\\rho \\right).\n",
    "\\end{align}\n",
    "\n",
    "We can describe the density operator after obtaining the measurement result $m$, assuming the initial state $|\\psi_k\\rangle$, is given by\n",
    "\n",
    "\\begin{align}\n",
    "|\\psi_k^m\\rangle = \\frac{M_m|\\psi_k\\rangle}{\\sqrt{\\langle \\psi_k|M_m^{\\dagger}M_m|\\psi_k\\rangle}}.\n",
    "\\end{align}\n",
    "\n",
    "Once a measurement is performed, we get a new *ensemble of states* $|\\psi_k^m\\rangle$ with corresponding probabilities $p(k|m)$. The corresponding density operator becomes, \n",
    "\n",
    "\\begin{align}\n",
    "\\rho_m &= \\sum_k p(k|m) |\\psi_k^m\\rangle \\langle \\psi_k^m| \\\\\n",
    "&= \\sum_k p(k|m) \\frac{M_m|\\psi_k\\rangle \\langle \\psi_k|M_m^{\\dagger}}{\\langle \\psi_k|M_m^{\\dagger}M_m|\\psi_k\\rangle}.\n",
    "\\end{align}\n",
    "\n",
    "Using elementary probability theory, \n",
    "\n",
    "\\begin{align}\n",
    "p(k|m) = \\frac{p(k,m)}{p(m)} = \\frac{p(m|k)p_k}{p(m)}, \n",
    "\\end{align}\n",
    "\n",
    "we can write\n",
    "\n",
    "\\begin{align}\n",
    "\\rho_m = \\sum_k p(k) \\frac{M_m|\\psi_k\\rangle \\langle \\psi_k|M_m^{\\dagger}}{Tr\\left( M_m^{\\dagger}M_m \\rho \\right)}\n",
    "= \\frac{M_m\\rho M_m^{\\dagger}}{Tr\\left(M_m^{\\dagger}M_m\\rho \\right)}.\n",
    "\\end{align}"
   ]
  },
  {
   "cell_type": "markdown",
   "metadata": {},
   "source": [
    "## Characterization of Density Operators"
   ]
  },
  {
   "cell_type": "markdown",
   "metadata": {},
   "source": [
    "There is a characterization of density operators that does not rely on an ensemble of state vectors with associated probabilities. The operator $\\rho$ is a density operator associated to an ensemble $\\{p_k, |\\psi_k\\rangle \\}$ *if and only if* it satisfies the following two conditions:\n",
    "\n",
    "1. $Tr(\\rho) = 1$ (**Trace Condition**),\n",
    "2. $\\rho$ is a positive operator (**Positivity Condition**). \n",
    "\n",
    "A positive operator has a somewhat technical definition in terms of *quadratic forms*. In particular, an operator $A$ is [positive](https://ncatlab.org/nlab/show/positive+operator) if the quadratic form given by \n",
    "\n",
    "\\begin{align}\n",
    "v \\mapsto \\langle v, Av \\rangle = \\langle v|A|v\\rangle\n",
    "\\end{align}\n",
    "\n",
    "is positive for all vectors $v \\in \\mathbb{H}$ in the Hilbert space."
   ]
  },
  {
   "cell_type": "markdown",
   "metadata": {},
   "source": [
    "From this we can *define* a desity matrix without reference to any state vector, as a positive operator with trace $1$. From this, we can formulate quantum physics using the following four postulates. \n",
    "\n",
    "1. For ever \"*isolated*\" physical system there is an associated Hilbert space $\\mathbb{H}$ called the **state space**. The quantum system is *completely* described by the density operator, where is the system is in state $\\rho_k$ with associated probability $p_k$, then the density operator is $\\sum_k p_k\\rho_k$. \n",
    "\n",
    "2. The evolution of a \"*closed*\" system is described by a unitary operator, so the state $\\rho_2$ at time $t_2$ is obtained from state $\\rho_1$ at time $t_1$ by conjugation by some unitary operator $U$, \n",
    "\n",
    "\\begin{align}\n",
    "\\rho_2 = U \\rho_1 U^{\\dagger},\n",
    "\\end{align}\n",
    "\n",
    "3. Measurements are described by a collection of measurement operators $\\{M_m\\}$ which act on the state space $\\mathbb{H}$, where $m$ refers to the outcomes that may occur. If the state is $\\rho$ just before a measurement, then the probability that $m$ occurs is\n",
    "\n",
    "\\begin{align}\n",
    "p(m) = Tr\\left( M_m^{\\dagger}M_m \\rho \\right), \n",
    "\\end{align}\n",
    "\n",
    "and the state after measurement is, \n",
    "\n",
    "\\begin{align}\n",
    "\\frac{M_m \\rho M_m^{\\dagger}}{Tr\\left( M_m^{\\dagger}M_m \\rho \\right)}.\n",
    "\\end{align}\n",
    "\n",
    "Moreover, the measurement operators satisfy the \"*completeness equation*\"\n",
    "\n",
    "\\begin{align}\n",
    "\\sum_m M_m^{\\dagger}M_m = I.\n",
    "\\end{align}\n",
    "\n",
    "4. The state space of a composite system is the tensor product of the component systems, \n",
    "\n",
    "\\begin{align}\n",
    "\\mathbb{H}_{total} = \\mathbb{H}_1 \\otimes \\mathbb{H}_2 \\otimes \\cdots \\otimes \\mathbb{H}_n.\n",
    "\\end{align}\n",
    "\n",
    "If each subsystem $\\mathbb{H}_k$ is in state $\\rho_k$, then the state of $\\mathbb{H}_{total} is represented by\n",
    "\n",
    "\\begin{align}\n",
    "\\rho_{total} = \\rho_1 \\otimes \\rho_2 \\otimes \\cdots \\otimes \\rho_n. \n",
    "\\end{align}\n",
    "\n",
    "This formulation of quantum mechanics is useful if the state of a system is not known or if one needs to described the states of subsystems. "
   ]
  },
  {
   "cell_type": "markdown",
   "metadata": {},
   "source": [
    "### Partial Trace"
   ]
  },
  {
   "cell_type": "markdown",
   "metadata": {},
   "source": [
    "Suppose we have a composite system\n",
    "\n",
    "\\begin{align}\n",
    "\\mathbb{H}_{total} = \\mathbb{H}_1 \\otimes \\mathbb{H}_2 \\otimes \\cdots \\otimes \\mathbb{H}_n.\n",
    "\\end{align}\n",
    "\n",
    "with state given by the density operator \n",
    "\n",
    "\\begin{align}\n",
    "\\rho_{total} = \\rho_1 \\otimes \\rho_2 \\otimes \\cdots \\otimes \\rho_n. \n",
    "\\end{align}\n",
    "\n",
    "Suppose, as an example we have $\\rho = \\rho_1 \\otimes \\rho_2$. We can define a partial trace over the subsystem $\\rho_2$ as\n",
    "\n",
    "\\begin{align}\n",
    "Tr_{2}(\\rho) = \\rho_1 \\otimes Tr(\\rho_2) = \\rho_1 \\cdot Tr(\\rho_2). \n",
    "\\end{align}\n",
    "\n",
    "This can be extended to arbitrary subsystems. As an example, let $\\rho = \\rho_1 \\otimes \\rho_2 \\otimes \\rho_3 \\otimes \\rho_4$. Taking the partial trace over the subsystem for $\\rho_2, \\rho_4$ we get\n",
    "\n",
    "\\begin{align}\n",
    "Tr_{2, 4}(\\rho) &= \\rho_1 \\otimes Tr(\\rho_2) \\otimes \\rho_3 \\otimes Tr(\\rho_4) \\\\\n",
    "&= Tr(\\rho_2)Tr(\\rho_4)\\rho_1 \\otimes \\rho_3.\n",
    "\\end{align}\n",
    "\n",
    "Notice, the trace of a matrix is a scalar and can be moved in front as a coefficient. This **reduced** density operator is often denote by $\\rho^{1, 3}$ to show that the subsystem corresponding to indices $\\{1, 3\\}$ were *not* traced out in the partial trace. In general, let the index set $\\{1, 2, ..., n\\}$ be divided into two disjoint subsets $\\{i_1, ..., i_r\\} \\amalg \\{j_1, ..., j_s\\} = A \\amalg B$. Taking the partial trace over $B = \\{j_1, ..., j_s\\}$ leaves us with the reduced density operator\n",
    "\n",
    "\\begin{align}\n",
    "\\rho^A &= Tr_B(\\rho^{AB}) \\\\\n",
    "&= Tr(\\rho_{j_1})Tr(\\rho_{j_2})\\cdots Tr(\\rho_{j_s})\\cdot \\rho_{i_1} \\otimes \\rho_{i_2} \\otimes \\cdots \\otimes \\rho_{i_r}. \n",
    "\\end{align}"
   ]
  },
  {
   "cell_type": "markdown",
   "metadata": {},
   "source": [
    "## Exercises"
   ]
  },
  {
   "cell_type": "markdown",
   "metadata": {},
   "source": [
    "1. Let $\\beta_{01} = \\frac{1}{\\sqrt{2}}|01\\rangle + \\frac{1}{\\sqrt{2}}|10\\rangle$. This is one of the four Bell states. Let\n",
    "\n",
    "\\begin{align}\n",
    "|\\psi_1\\rangle_{01} &= |01\\rangle \\\\\n",
    "|\\psi_2\\rangle_{01} &= |10\\rangle \n",
    "\\end{align}\n",
    "\n",
    "and let $p_1 = p_2 = (1/\\sqrt{2})^2 = 1/2$, be the corresponding probabilities obtained from the amplitude $1/\\sqrt{2}$. This gives an *ensemble of states* $\\{p_k, |\\psi_k\\rangle \\}_{k=1,2}$. Write the density operator corresponding to this ensemble. \n",
    "\n",
    "2. Construct a circuit in Qiskit to prepare $\\beta_{01}$. \n",
    "3. Run the circuit you constructed in Qiskit on the `statevector_simulator` backend and print the resulting state vector as a column (ket) vector. \n",
    "4. Write Python code to define the column (ket) vector $|01\\rangle$, call it `ud`.  \n",
    "5. Write Python code to define the column (ket) vector $|10\\rangle$, call it `du`.\n",
    "6. Use the Python code to compute the density matrix corresponding to $\\beta_{01}$ using `ud` and `du`. \n",
    "7. Repeat (1)-(6) for the Bell state\n",
    "\n",
    "\\begin{align}\n",
    "|\\beta_{10}\\rangle &= \\frac{|00\\rangle -|11\\rangle}{\\sqrt{2}}.\n",
    "\\end{align}\n",
    "\n",
    "8. Repeat (1)-(6) for the Bell state\n",
    "\n",
    "\\begin{align}\n",
    "|\\beta_{11}\\rangle &= \\frac{|01\\rangle -|10\\rangle}{\\sqrt{2}}.\n",
    "\\end{align}"
   ]
  },
  {
   "cell_type": "markdown",
   "metadata": {},
   "source": [
    "9. Use the following $W$-state to create a density matrix in Python. \n",
    "\n",
    "\\begin{align}\n",
    "\\frac{|001\\rangle + |010\\rangle + |100\\rangle}{\\sqrt{3}}.\n",
    "\\end{align}\n",
    "\n",
    "The three states will be\n",
    "\n",
    "\\begin{align}\n",
    "|\\psi_1\\rangle &= |001\\rangle \\\\\n",
    "|\\psi_2\\rangle &= |010\\rangle \\\\\n",
    "|\\psi_3\\rangle &= |100\\rangle\n",
    "\\end{align}\n",
    "\n",
    "and the amplitude $1/\\sqrt{3}$ for each of these states gives the associated probabilities $p_1 = p_2 = p_3 = 1/3$. You can name the three column (ket) vectors `uud`, `udu`, and `duu`. Use this information to define the density matrix\n",
    "\n",
    "\\begin{align}\n",
    "\\rho_W = \\sum_{k=1}^3 p_k |\\psi_k \\rangle \\langle \\psi_k|. \n",
    "\\end{align}\n",
    "\n",
    "Define the following density matrices, \n",
    "\n",
    "\\begin{align}\n",
    "\\rho_1 = \n",
    "\\begin{pmatrix}\n",
    "1/2 & 0 \\\\\n",
    "0 & 1/2\n",
    "\\end{pmatrix}, \\quad\n",
    "\\rho_2 = \n",
    "\\begin{pmatrix}\n",
    "5/6 & 1/6 \\\\\n",
    "1/6 & 1/6\n",
    "\\end{pmatrix}.\n",
    "\\end{align}\n",
    "\n",
    "10. Compute $\\rho = \\rho_1 \\otimes \\rho_2$. \n",
    "11. Compute $Tr_2(\\rho)$. \n",
    "12. Compute $Tr_1(\\rho)$. \n",
    "13. Determine if $\\rho_1$ is pure by computing $Tr(\\rho_1^2)$. \n",
    "14. Determine if $\\rho_2$ is pure by computing $Tr(\\rho_2^2)$. \n",
    "15. Determine if $\\rho = |0\\rangle \\langle 0|$ is pure by computing $Tr(\\rho^2)$. \n",
    "16. Determine if $\\rho = |1\\rangle \\langle 1|$ is pure by computing $Tr(\\rho^2)$. "
   ]
  },
  {
   "cell_type": "markdown",
   "metadata": {},
   "source": [
    "## References\n",
    "\n",
    "- [The Road to Reality; Roger Penrose](https://www.amazon.com/Road-Reality-Complete-Guide-Universe/dp/0679776311)\n",
    "- [Quantum Computation and Quantum Information; Nielsen & Chuang](https://www.amazon.com/Quantum-Computation-Information-10th-Anniversary/dp/1107002176)"
   ]
  }
 ],
 "metadata": {
  "kernelspec": {
   "display_name": "Python 3",
   "language": "python",
   "name": "python3"
  },
  "language_info": {
   "codemirror_mode": {
    "name": "ipython",
    "version": 3
   },
   "file_extension": ".py",
   "mimetype": "text/x-python",
   "name": "python",
   "nbconvert_exporter": "python",
   "pygments_lexer": "ipython3",
   "version": "3.7.6"
  }
 },
 "nbformat": 4,
 "nbformat_minor": 4
}
